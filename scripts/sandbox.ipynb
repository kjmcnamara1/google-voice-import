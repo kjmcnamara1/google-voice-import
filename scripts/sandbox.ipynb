{
  "cells": [
    {
      "cell_type": "code",
      "execution_count": null,
      "metadata": {},
      "outputs": [],
      "source": [
        "from pathlib import Path\n",
        "import warnings\n",
        "import pandas as pd\n",
        "import regex as re\n",
        "from bs4 import BeautifulSoup as BS\n",
        "\n",
        "# warnings.filterwarnings(action=\"ignore\", category=\"XMLParsedAsHTMLWarning\")"
      ]
    },
    {
      "cell_type": "code",
      "execution_count": null,
      "metadata": {},
      "outputs": [],
      "source": [
        "sms = pd.read_xml(\"data/xml/sms-20230818094717.xml\")\n",
        "sms[\"date\"] = (\n",
        "    sms.date.astype(\"datetime64[ms]\").dt.tz_localize(\"UTC\").dt.tz_convert(\"US/Central\")\n",
        ")\n",
        "sms.info()\n",
        "sms.describe()\n",
        "for c in sms.columns:\n",
        "    print(c, \": \", sms[c].nunique(), \" / \", sms[c].count())\n",
        "    print(\"---------------\")\n",
        "    print(sms[c].value_counts().head(3))\n",
        "    print()"
      ]
    },
    {
      "cell_type": "code",
      "execution_count": null,
      "metadata": {},
      "outputs": [],
      "source": [
        "mms = pd.read_xml(\"data/xml/mms-20230818094717.xml\")\n",
        "mms[\"date\"] = (\n",
        "    mms.date.astype(\"datetime64[ms]\").dt.tz_localize(\"UTC\").dt.tz_convert(\"US/Central\")\n",
        ")\n",
        "mms.info()\n",
        "mms.describe()\n",
        "for c in mms.columns:\n",
        "    print(c, \": \", mms[c].nunique(), \" / \", mms[c].count())\n",
        "    print(\"---------------\")\n",
        "    print(mms[c].value_counts().head(3))\n",
        "    print()"
      ]
    },
    {
      "cell_type": "code",
      "execution_count": null,
      "metadata": {},
      "outputs": [],
      "source": [
        "voice_dir = Path(\"data/voice_sample\")\n",
        "\n",
        "files = sorted(voice_dir.glob(\"*\"))\n",
        "\n",
        "fnames = [f.stem for f in files if f.is_file()]\n",
        "\n",
        "meta = pd.DataFrame({\"file\": files})\n",
        "meta[\"name\"] = meta.file.apply(lambda p: p.name)\n",
        "meta = pd.concat(\n",
        "    [\n",
        "        meta,\n",
        "        meta.name.str.extract(\n",
        "            r\"(?:(?P<contact>.+) - )?(?P<type>.+) - (?P<date>[0-9\\-]+)T(?P<time>[0-9\\_]+)Z?-?(?P<attachment>[0-9\\-]+)?\\.(?P<ext>.*)\"\n",
        "        ),\n",
        "    ],\n",
        "    axis=1,\n",
        ")\n",
        "\n",
        "# files\n",
        "# fnames\n",
        "# meta\n",
        "\n",
        "soup = BS(meta.file[11].open(), features=\"xml\")\n",
        "soup.select(\"div.message\")"
      ]
    },
    {
      "cell_type": "code",
      "execution_count": null,
      "metadata": {},
      "outputs": [],
      "source": [
        "# sms\n",
        "# sms['date'] = sms.date.astype(\"datetime64[ms]\").dt.tz\n",
        "sms.sort_values(\"date\", ascending=False).head(\n",
        "    40\n",
        ").style  # .groupby(\"contact_name\").apply(lambda x: x)"
      ]
    },
    {
      "cell_type": "code",
      "execution_count": null,
      "metadata": {},
      "outputs": [],
      "source": [
        "mms.sort_values(\"date\", ascending=False).head(40).style"
      ]
    }
  ],
  "metadata": {
    "kernelspec": {
      "display_name": "google-voice-import-qh44FKyB-py3.11",
      "language": "python",
      "name": "python3"
    },
    "language_info": {
      "codemirror_mode": {
        "name": "ipython",
        "version": 3
      },
      "file_extension": ".py",
      "mimetype": "text/x-python",
      "name": "python",
      "nbconvert_exporter": "python",
      "pygments_lexer": "ipython3",
      "version": "3.11.4"
    },
    "orig_nbformat": 4
  },
  "nbformat": 4,
  "nbformat_minor": 2
}
