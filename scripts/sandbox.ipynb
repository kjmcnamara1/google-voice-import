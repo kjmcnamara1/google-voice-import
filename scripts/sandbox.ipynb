{
  "cells": [
    {
      "cell_type": "code",
      "execution_count": null,
      "metadata": {},
      "outputs": [],
      "source": [
        "import pandas as pd"
      ]
    },
    {
      "cell_type": "code",
      "execution_count": null,
      "metadata": {},
      "outputs": [],
      "source": [
        "sms = pd.read_xml(\"data/xml/sms-20230818094717.xml\")\n",
        "sms\n",
        "sms.info()\n",
        "sms.describe()\n",
        "for c in sms.columns:\n",
        "    print(c, \": \", sms[c].nunique(), \" / \", sms[c].count())\n",
        "    print(\"---------------\")\n",
        "    print(sms[c].value_counts().head(3))\n",
        "    print()"
      ]
    },
    {
      "cell_type": "code",
      "execution_count": null,
      "metadata": {},
      "outputs": [],
      "source": [
        "mms = pd.read_xml(\"data/xml/mms-20230818094717.xml\")\n",
        "mms\n",
        "mms.info()\n",
        "mms.describe()"
      ]
    },
    {
      "cell_type": "code",
      "execution_count": null,
      "metadata": {},
      "outputs": [],
      "source": [
        "for c in mms.columns:\n",
        "    print(c, \": \", mms[c].nunique(), \" / \", mms[c].count())\n",
        "    print(\"---------------\")\n",
        "    print(mms[c].value_counts().head(3))\n",
        "    print()"
      ]
    }
  ],
  "metadata": {
    "kernelspec": {
      "display_name": "google-voice-import-qh44FKyB-py3.11",
      "language": "python",
      "name": "python3"
    },
    "language_info": {
      "codemirror_mode": {
        "name": "ipython",
        "version": 3
      },
      "file_extension": ".py",
      "mimetype": "text/x-python",
      "name": "python",
      "nbconvert_exporter": "python",
      "pygments_lexer": "ipython3",
      "version": "3.11.4"
    },
    "orig_nbformat": 4
  },
  "nbformat": 4,
  "nbformat_minor": 2
}
