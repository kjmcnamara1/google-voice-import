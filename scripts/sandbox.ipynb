{
  "cells": [
    {
      "cell_type": "code",
      "execution_count": null,
      "metadata": {},
      "outputs": [],
      "source": [
        "from pathlib import Path\n",
        "\n",
        "import pandas as pd\n",
        "import regex as re"
      ]
    },
    {
      "cell_type": "code",
      "execution_count": null,
      "metadata": {},
      "outputs": [],
      "source": [
        "sms = pd.read_xml(\"data/xml/sms-20230818094717.xml\")\n",
        "sms\n",
        "sms.info()\n",
        "sms.describe()\n",
        "for c in sms.columns:\n",
        "    print(c, \": \", sms[c].nunique(), \" / \", sms[c].count())\n",
        "    print(\"---------------\")\n",
        "    print(sms[c].value_counts().head(3))\n",
        "    print()"
      ]
    },
    {
      "cell_type": "code",
      "execution_count": null,
      "metadata": {},
      "outputs": [],
      "source": [
        "mms = pd.read_xml(\"data/xml/mms-20230818094717.xml\")\n",
        "mms\n",
        "mms.info()\n",
        "mms.describe()\n",
        "for c in mms.columns:\n",
        "    print(c, \": \", mms[c].nunique(), \" / \", mms[c].count())\n",
        "    print(\"---------------\")\n",
        "    print(mms[c].value_counts().head(3))\n",
        "    print()"
      ]
    },
    {
      "cell_type": "code",
      "execution_count": null,
      "metadata": {},
      "outputs": [],
      "source": [
        "voice_dir = Path(\"data/voice\")\n",
        "\n",
        "fnames = [f.stem for f in voice_dir.glob(\"*\") if f.is_file()]\n",
        "\n",
        "# list(voice_dir.glob(\"*\"))\n",
        "globs = [f.stem.split(\" - \") for f in voice_dir.glob(\"*\") if f.is_file()]\n",
        "# meta = [re.findall(r\"(.*) - (.*) - ([0-9\\-]+)T([0-9_])Z\", fname) for fname in fnames]\n",
        "\n",
        "\n",
        "# [[\"\"] + f if len(f) < 3 else f for f in globs]\n",
        "files = pd.DataFrame(\n",
        "    [[\"\"] + f if len(f) < 3 else f for f in globs],\n",
        "    columns=[\"contact\", \"type\", \"date_time\"],\n",
        ")\n",
        "files[\"date\"] = files.date_time.str.extract(r\"([0-9\\-]+)T\")\n",
        "files[\"time\"] = files.date_time.str.extract(r\"T(.*)Z\", expand=False).str.replace(\n",
        "    \"_\", \":\"\n",
        ")\n",
        "# files.date_time.str.extract(r\"T(.*)Z\", expand=False).str.replace(\"_\", \":\")\n",
        "# fnames[:10]\n",
        "# re.findall(r\"(.*) - (.*) - ([0-9\\-]+)T([0-9_]+)Z\", fnames[2])\n",
        "# re.findall(r\"(.*?) - \", fnames[2])\n",
        "# meta\n",
        "# globs\n",
        "files\n",
        "files.type.value_counts()\n",
        "# [f.stem.split(sep=\"-\") for f in voice_dir.glob(\"*\") if f.is_file()]"
      ]
    }
  ],
  "metadata": {
    "kernelspec": {
      "display_name": "google-voice-import-qh44FKyB-py3.11",
      "language": "python",
      "name": "python3"
    },
    "language_info": {
      "codemirror_mode": {
        "name": "ipython",
        "version": 3
      },
      "file_extension": ".py",
      "mimetype": "text/x-python",
      "name": "python",
      "nbconvert_exporter": "python",
      "pygments_lexer": "ipython3",
      "version": "3.11.4"
    },
    "orig_nbformat": 4
  },
  "nbformat": 4,
  "nbformat_minor": 2
}
